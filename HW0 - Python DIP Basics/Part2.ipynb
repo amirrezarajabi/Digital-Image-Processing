{
 "cells": [
  {
   "cell_type": "code",
   "execution_count": 1,
   "id": "496ed349",
   "metadata": {},
   "outputs": [],
   "source": [
    "import numpy as np\n",
    "import matplotlib.pyplot as plt\n",
    "from PIL import Image"
   ]
  },
  {
   "cell_type": "markdown",
   "id": "0b6994c0",
   "metadata": {},
   "source": [
    "# Part 2"
   ]
  },
  {
   "cell_type": "code",
   "execution_count": 2,
   "id": "10dc14b0",
   "metadata": {},
   "outputs": [
    {
     "name": "stdout",
     "output_type": "stream",
     "text": [
      "[2, 2, 2, 2]\n",
      "[2, 6, 10, 14]\n",
      "[2, 10, 26, 50]\n"
     ]
    }
   ],
   "source": [
    "def wanted_function(seed, dims):\n",
    "    rows, cols = dims\n",
    "    arr = [[0 for i in range(cols)] for j in range(rows)]\n",
    "    arr[0][0] = seed\n",
    "    def wanted_sum(i, j, arr):\n",
    "        i1, j1, i2, j2, i3, j3 = i - 1, j, i - 1, j - 1, i, j - 1\n",
    "        v1, v2, v3 = 0, 0, 0\n",
    "        if i1 >= 0 and j1 >= 0: v1 = arr[i1][j1]\n",
    "        if i2 >= 0 and j2 >= 0: v2 = arr[i2][j2]\n",
    "        if i3 >= 0 and j3 >= 0: v3 = arr[i3][j3]\n",
    "        return v1 + v2 + v3\n",
    "    for i in range(rows):\n",
    "        for j in range(cols):\n",
    "            if i + j != 0:\n",
    "                arr[i][j] = wanted_sum(i, j, arr)\n",
    "    return arr\n",
    "\n",
    "arr = wanted_function(2, (3, 4))\n",
    "for a in arr:\n",
    "    print(a)"
   ]
  }
 ],
 "metadata": {
  "kernelspec": {
   "display_name": "Python 3 (ipykernel)",
   "language": "python",
   "name": "python3"
  },
  "language_info": {
   "codemirror_mode": {
    "name": "ipython",
    "version": 3
   },
   "file_extension": ".py",
   "mimetype": "text/x-python",
   "name": "python",
   "nbconvert_exporter": "python",
   "pygments_lexer": "ipython3",
   "version": "3.8.0"
  }
 },
 "nbformat": 4,
 "nbformat_minor": 5
}
