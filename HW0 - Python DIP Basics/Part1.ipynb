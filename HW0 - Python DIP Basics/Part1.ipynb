{
 "cells": [
  {
   "cell_type": "code",
   "execution_count": 1,
   "id": "c3897b02",
   "metadata": {},
   "outputs": [],
   "source": [
    "import numpy as np\n",
    "import matplotlib.pyplot as plt\n",
    "from PIL import Image"
   ]
  },
  {
   "cell_type": "markdown",
   "id": "225a6e2d",
   "metadata": {},
   "source": [
    "# Part 1"
   ]
  },
  {
   "cell_type": "code",
   "execution_count": 2,
   "id": "27bb09f5",
   "metadata": {},
   "outputs": [
    {
     "name": "stdout",
     "output_type": "stream",
     "text": [
      "type of data: <class 'numpy.ndarray'>\n",
      "type of elem: float64\n"
     ]
    }
   ],
   "source": [
    "random_data = np.random.uniform(low=-5000, high=5000, size=80)\n",
    "print(\"type of data:\", type(random_data))\n",
    "print(\"type of elem:\", random_data.dtype)"
   ]
  },
  {
   "cell_type": "code",
   "execution_count": 3,
   "id": "71a3985c",
   "metadata": {},
   "outputs": [],
   "source": [
    "# this function round data for example convert 1.6 -> to 2 and -2.8 to 3\n",
    "random_data_rounded = np.round(random_data)"
   ]
  },
  {
   "cell_type": "markdown",
   "id": "9b614b2a",
   "metadata": {},
   "source": [
    "* ### `float` and `uint` (unsigned integer) are not appropriate\n",
    "* ### `int8` is for $[-128, 127]$\n",
    "* ### `int16` is for $[-32768, 32767]$\n",
    "* ### `int32` or `int64` reserve more than our need size in disk\n",
    "## so i choose `int16`"
   ]
  },
  {
   "cell_type": "code",
   "execution_count": 4,
   "id": "01f203cb",
   "metadata": {},
   "outputs": [
    {
     "name": "stdout",
     "output_type": "stream",
     "text": [
      "type of elem: int16\n"
     ]
    }
   ],
   "source": [
    "random_data_rounded = random_data_rounded.astype(np.int16)\n",
    "print(\"type of elem:\", random_data_rounded.dtype)"
   ]
  },
  {
   "cell_type": "code",
   "execution_count": 5,
   "id": "7cf9fb23",
   "metadata": {},
   "outputs": [
    {
     "name": "stdout",
     "output_type": "stream",
     "text": [
      "type of elem: int16\n"
     ]
    }
   ],
   "source": [
    "# -5000 to 5000 has 10001 numbers so:\n",
    "# x + 5000 -> / 10001.0 (for cast to float) -> * 256 -> convert to int16\n",
    "converted_random_data = ((random_data_rounded + 5000) / 10001.0 * 256).astype(np.int16)\n",
    "print(\"type of elem:\", converted_random_data.dtype)"
   ]
  },
  {
   "cell_type": "code",
   "execution_count": 6,
   "id": "fc418764",
   "metadata": {},
   "outputs": [
    {
     "name": "stdout",
     "output_type": "stream",
     "text": [
      "data:\n",
      "[[224 208  39 244  94 132 168 219 208  37]\n",
      " [157 147 242 164 199  38 191 124  10 219]\n",
      " [199 145 103 116 232  66 242 128  15 132]\n",
      " [ 95 121 132  27 186  88 223 114 143 103]\n",
      " [ 34 107 111 117  11  27 250 224 196  58]\n",
      " [204 101   6 100 234  97  68 124  37  58]\n",
      " [240 228 225 175 105 214 150 247 105 249]\n",
      " [185   8  63 104 178 207 160 217 118 127]]\n"
     ]
    }
   ],
   "source": [
    "reshaped_random_data = converted_random_data.reshape(8, 10)\n",
    "print(f\"data:\\n{reshaped_random_data}\")"
   ]
  },
  {
   "cell_type": "code",
   "execution_count": 7,
   "id": "72b6aaf1",
   "metadata": {},
   "outputs": [
    {
     "name": "stdout",
     "output_type": "stream",
     "text": [
      "int8 of data:\n",
      "[[ -32  -48   39  -12   94 -124  -88  -37  -48   37]\n",
      " [ -99 -109  -14  -92  -57   38  -65  124   10  -37]\n",
      " [ -57 -111  103  116  -24   66  -14 -128   15 -124]\n",
      " [  95  121 -124   27  -70   88  -33  114 -113  103]\n",
      " [  34  107  111  117   11   27   -6  -32  -60   58]\n",
      " [ -52  101    6  100  -22   97   68  124   37   58]\n",
      " [ -16  -28  -31  -81  105  -42 -106   -9  105   -7]\n",
      " [ -71    8   63  104  -78  -49  -96  -39  118  127]]\n"
     ]
    }
   ],
   "source": [
    "reshaped_random_data_int8 = reshaped_random_data.astype(np.int8)\n",
    "print(f\"int8 of data:\\n{reshaped_random_data_int8}\")"
   ]
  },
  {
   "cell_type": "markdown",
   "id": "077a6984",
   "metadata": {},
   "source": [
    "## in computer integer represent by [Two’s Complement method](https://en.wikipedia.org/wiki/Two%27s_complement)\n",
    "## so after converting from `int16` to `int8`, `int8`  keeps the lowest 8 bits\n",
    "* ### for example `224` is `0000000011100000` in `int16` after casting to `int8` keeps `11100000` that is `-32`"
   ]
  }
 ],
 "metadata": {
  "kernelspec": {
   "display_name": "Python 3 (ipykernel)",
   "language": "python",
   "name": "python3"
  },
  "language_info": {
   "codemirror_mode": {
    "name": "ipython",
    "version": 3
   },
   "file_extension": ".py",
   "mimetype": "text/x-python",
   "name": "python",
   "nbconvert_exporter": "python",
   "pygments_lexer": "ipython3",
   "version": "3.8.0"
  }
 },
 "nbformat": 4,
 "nbformat_minor": 5
}
