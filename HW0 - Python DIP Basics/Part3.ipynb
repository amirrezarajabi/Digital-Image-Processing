{
 "cells": [
  {
   "cell_type": "code",
   "execution_count": 1,
   "id": "9dc9b86c",
   "metadata": {},
   "outputs": [],
   "source": [
    "import numpy as np\n",
    "import matplotlib.pyplot as plt\n",
    "from PIL import Image"
   ]
  },
  {
   "cell_type": "markdown",
   "id": "e49444ff",
   "metadata": {},
   "source": [
    "# Part 3\n",
    "* ### my student number is `9831126`"
   ]
  },
  {
   "cell_type": "code",
   "execution_count": 2,
   "id": "47340248",
   "metadata": {},
   "outputs": [
    {
     "data": {
      "image/png": "[encoded data removed]",
      "text/plain": [
       "<Figure size 432x288 with 2 Axes>"
      ]
     },
     "metadata": {
      "needs_background": "light"
     },
     "output_type": "display_data"
    }
   ],
   "source": [
    "std_num = 9831126\n",
    "digsum_std_num = sum([int(i) for i in str(std_num)]) % 12\n",
    "\n",
    "def circle_inscribed_in_square(r):\n",
    "    arr = np.zeros((2 * r + 1, 2 * r + 1), dtype=np.uint8)\n",
    "    cx, cy = r, r\n",
    "    for i in range(arr.shape[0]):\n",
    "        for j in range(arr.shape[1]):\n",
    "            if abs(i - cx) ** 2 + abs(j - cy) ** 2 <= r ** 2:\n",
    "                arr[i, j] = 255\n",
    "    return arr\n",
    "\n",
    "def noisy_array(arr, rng):\n",
    "    noised = np.abs((arr * -1).astype(float) + np.random.uniform(low=0, high=rng, size=arr.shape)).astype(np.uint8)\n",
    "    return noised\n",
    "\n",
    "cis = circle_inscribed_in_square(3)\n",
    "noisy_cis = noisy_array(cis, digsum_std_num + 40)\n",
    "\n",
    "fig, ax = plt.subplots(1, 2)\n",
    "ax[0].imshow(cis, cmap=\"gray\")\n",
    "ax[0].set_title(\"circle inscribed in square r=3\")\n",
    "ax[1].imshow(noisy_cis, cmap=\"gray\", vmin=0, vmax=255)\n",
    "ax[1].set_title(f\"noisy image range={digsum_std_num + 40}\")\n",
    "fig.suptitle(f\"HW0-Image-{std_num}\")\n",
    "plt.show()"
   ]
  }
 ],
 "metadata": {
  "kernelspec": {
   "display_name": "Python 3 (ipykernel)",
   "language": "python",
   "name": "python3"
  },
  "language_info": {
   "codemirror_mode": {
    "name": "ipython",
    "version": 3
   },
   "file_extension": ".py",
   "mimetype": "text/x-python",
   "name": "python",
   "nbconvert_exporter": "python",
   "pygments_lexer": "ipython3",
   "version": "3.8.0"
  }
 },
 "nbformat": 4,
 "nbformat_minor": 5
}
